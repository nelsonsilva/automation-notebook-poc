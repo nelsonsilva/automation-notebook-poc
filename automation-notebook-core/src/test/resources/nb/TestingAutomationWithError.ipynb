{
 "cells": [
  {
   "cell_type": "markdown",
   "metadata": {},
   "source": [
    "### About\n",
    "\n",
    "The goal of the NoteBook is to provide a single point to access the differents parts needed to write Automation Scripting:\n",
    " - Documentation\n",
    " - Setup code \n",
    " - Operation Scriptig Code\n",
    " - Tests\n",
    "\n",
    "Here is a example."
   ]
  },
  {
   "cell_type": "markdown",
   "metadata": {},
   "source": [
    "### Setup - init the repository\n",
    "\n",
    "The idea is to create the objects (Doc, Users, Vocabularies) needed to be able to run your Operation:"
   ]
  },
  {
   "cell_type": "code",
   "execution_count": null,
   "metadata": {},
   "outputs": [],
   "source": [
    "@Setup\n",
    "function setupMyRepository() {\n",
    "\n",
    "   var docs = Document.Query(null, {\"query\" : \"select * from File where dc:source='automation'\"});\n",
    "   if (docs.size()>0) {\n",
    "       return docs;\n",
    "   }\n",
    "   \n",
    "   var root = Repository.GetDocument(null, {\n",
    "        \"value\" : \"/\"\n",
    "   });\n",
    "   \n",
    "   for (var i=0; i < 5; i++) {\n",
    "       Document.Create(root, { \"type\": \"File\",\n",
    "                               \"name\": \"File-\" + i,\n",
    "                               \"properties\": {\n",
    "                                   \"dc:title\": \"File \" + i,\n",
    "                                   \"dc:source\" : \"automation\"\n",
    "                               }});\n",
    "   }\n",
    "   Session.save();\n",
    "   return Document.Query(null, {\"query\" : \"select * from File where dc:source='automation'\"});\n",
    "   \n",
    "}\n",
    "setupMyRepository();"
   ]
  },
  {
   "cell_type": "code",
   "execution_count": null,
   "metadata": {},
   "outputs": [],
   "source": [
    "@Setup\n",
    "function setupMyRepository2() {\n",
    "Assert.assertTrue(true);}\n",
    "IWillFail();"
   ]
  },
  {
   "cell_type": "markdown",
   "metadata": {},
   "source": [
    "### Writing the Operation\n",
    "\n",
    "The we write the code for the operation and use the @Operation annotation to give it a name so that the operation is regostered on the server side"
   ]
  },
  {
   "cell_type": "code",
   "execution_count": null,
   "metadata": {},
   "outputs": [],
   "source": [
    "@Operation(id = \"NBTest.ExampleOperation\")\n",
    "function run(input, params) {\n",
    "  \n",
    "  var docs = Document.Query(null, {\"query\" : \"select * from File where dc:source='automation'\"});\n",
    "\n",
    "  for (var i=0; i < docs.size(); i++) {\n",
    "       Document.Update(docs.get(i), { \"properties\": {\n",
    "                                   \"dc:title\": input + \"-\" + i,\n",
    "                               }});\n",
    "   }\n",
    "   Session.save();\n",
    "   return Document.Query(null, {\"query\" : \"select * from File where dc:source='automation'\"});\n",
    "}"
   ]
  },
  {
   "cell_type": "markdown",
   "metadata": {},
   "source": [
    "### Testing\n",
    "\n",
    "Then we can use Scripting to test our operation and verify that the code works as expected"
   ]
  },
  {
   "cell_type": "code",
   "execution_count": null,
   "metadata": {},
   "outputs": [],
   "source": [
    "@Test(id = \"SimpleTests\")\n",
    "Assert.assertTrue(NBTest.ExampleOperation(null, {}).size()>0,'Should return documents');\n",
    "Assert.assertTrue(NBTest.ExampleOperation(null, {}).get(0).type=='File','Should return Files');\n"
   ]
  },
  {
   "cell_type": "code",
   "execution_count": null,
   "metadata": {},
   "outputs": [],
   "source": [
    "@Test(id = \"SimpleTests2\")\n",
    "Assert.assertTrue(NBTest.ExampleOperation(null, {})[0].getPropertyValue('dc:source')=='automation');\n"
   ]
  }
 ],
 "metadata": {
  "kernelspec": {
   "display_name": "Nuxeo Automation",
   "language": "javascript",
   "name": "nuxeokernel"
  },
  "language_info": {
   "__codemirror_mode": {
    "json": true,
    "name": "javascript"
   },
   "file_extension": ".js",
   "mimetype": "text/javascript",
   "name": "javascript"
  }
 },
 "nbformat": 4,
 "nbformat_minor": 2
}
