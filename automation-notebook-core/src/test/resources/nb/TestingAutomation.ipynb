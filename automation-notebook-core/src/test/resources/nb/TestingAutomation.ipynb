{
 "cells": [
  {
   "cell_type": "markdown",
   "metadata": {},
   "source": [
    "### About\n",
    "\n",
    "The goal of the NoteBook is to provide a single point to access the differents parts needed to write Automation Scripting:\n",
    " - Documentation\n",
    " - Setup code \n",
    " - Operation Scriptig Code\n",
    " - Tests\n",
    "\n",
    "Here is a example."
   ]
  },
  {
   "cell_type": "markdown",
   "metadata": {},
   "source": [
    "### Setup - init the repository\n",
    "\n",
    "The idea is to create the objects (Doc, Users, Vocabularies) needed to be able to run your Operation:"
   ]
  },
  {
   "cell_type": "code",
   "execution_count": 1,
   "metadata": {},
   "outputs": [
    {
     "data": {
      "text/html": [
       "Documents: \n",
       "\n",
       "<table>\n",
       "<tr>\n",
       "    <th> UID </th>\n",
       "    <th> Title </th>\n",
       "    <th> Type </th>\n",
       "    <th> Path </th>\n",
       "</tr>\n",
       "\n",
       "<tr>\n",
       "    <td> 76c48fad-8634-45ad-92af-84680513695c </td>\n",
       "    <td> testingreal-2 </td>\n",
       "    <td> File </td>\n",
       "    <td> /File-1 </td>\n",
       "</tr>\n",
       "\n",
       "<tr>\n",
       "    <td> 63161b91-5159-4cbf-9791-caaf6d33cf7f </td>\n",
       "    <td> testingreal-3 </td>\n",
       "    <td> File </td>\n",
       "    <td> /File-4 </td>\n",
       "</tr>\n",
       "\n",
       "<tr>\n",
       "    <td> 19fb3aa8-d8d6-456c-a167-f5c85297d5de </td>\n",
       "    <td> testingreal-0 </td>\n",
       "    <td> File </td>\n",
       "    <td> /File-2 </td>\n",
       "</tr>\n",
       "\n",
       "<tr>\n",
       "    <td> ebff1322-965f-41c5-8f57-4bbbed3c7c6a </td>\n",
       "    <td> testingreal-1 </td>\n",
       "    <td> File </td>\n",
       "    <td> /File-3 </td>\n",
       "</tr>\n",
       "\n",
       "<tr>\n",
       "    <td> 48dd84c6-1293-4f0a-8fe5-c4c6d29603dc </td>\n",
       "    <td> testingreal-4 </td>\n",
       "    <td> File </td>\n",
       "    <td> /File-0 </td>\n",
       "</tr>\n",
       "\n",
       "\n",
       "</table>\n",
       "\n",
       "<BR/>\n",
       "\n",
       "<I>Execution time = 32 ms</I>\n",
       "\n",
       "<BR/>\n",
       "\n",
       "\n"
      ]
     },
     "metadata": {
      "application/json": {
       "expanded": true
      }
     },
     "output_type": "display_data"
    }
   ],
   "source": [
    "@Setup\n",
    "function setupMyRepository() {\n",
    "\n",
    "   var docs = Document.Query(null, {\"query\" : \"select * from File where dc:source='automation'\"});\n",
    "   if (docs.size()>0) {\n",
    "       return docs;\n",
    "   }\n",
    "   \n",
    "   var root = Repository.GetDocument(null, {\n",
    "        \"value\" : \"/\"\n",
    "   });\n",
    "   \n",
    "   for (var i=0; i < 5; i++) {\n",
    "       Document.Create(root, { \"type\": \"File\",\n",
    "                               \"name\": \"File-\" + i,\n",
    "                               \"properties\": {\n",
    "                                   \"dc:title\": \"File \" + i,\n",
    "                                   \"dc:source\" : \"automation\"\n",
    "                               }});\n",
    "   }\n",
    "   \n",
    "   return Document.Query(null, {\"query\" : \"select * from File where dc:source='automation'\"});\n",
    "   \n",
    "}\n",
    "setupMyRepository();"
   ]
  },
  {
   "cell_type": "markdown",
   "metadata": {},
   "source": [
    "### Writing the Operation\n",
    "\n",
    "The we write the code for the operation and use the @Operation annotation to give it a name so that the operation is regostered on the server side"
   ]
  },
  {
   "cell_type": "code",
   "execution_count": 3,
   "metadata": {},
   "outputs": [
    {
     "data": {
      "text/html": [
       "\n",
       "Operation 'NBTest.ExampleOperation' compiled and deployed.\n",
       "\n",
       "<BR/>\n",
       "\n",
       "<I>Execution time = 103 ms</I>\n",
       "\n",
       "<BR/>\n",
       "\n",
       "\n"
      ]
     },
     "metadata": {
      "application/json": {
       "expanded": true
      }
     },
     "output_type": "display_data"
    }
   ],
   "source": [
    "@Operation(id = \"NBTest.ExampleOperation\")\n",
    "function run(input, params) {\n",
    "  \n",
    "  var docs = Document.Query(null, {\"query\" : \"select * from File where dc:source='automation'\"});\n",
    "\n",
    "  for (var i=0; i < docs.size(); i++) {\n",
    "       Document.Update(docs.get(i), { \"properties\": {\n",
    "                                   \"dc:title\": input + \"-\" + i,\n",
    "                               }});\n",
    "   }\n",
    "   \n",
    "   return Document.Query(null, {\"query\" : \"select * from File where dc:source='automation'\"});\n",
    "}"
   ]
  },
  {
   "cell_type": "markdown",
   "metadata": {},
   "source": [
    "### Testing\n",
    "\n",
    "Then we can use Scripting to test our operation and verify that the code works as expected"
   ]
  },
  {
   "cell_type": "code",
   "execution_count": 11,
   "metadata": {},
   "outputs": [
    {
     "data": {
      "text/html": [
       "\n",
       "Result=true (java.lang.Boolean)\n",
       "\n",
       "<BR/>\n",
       "\n",
       "<I>Execution time = 87 ms</I>\n",
       "\n",
       "<BR/>\n",
       "\n",
       " <div  style='background-color:#99FF99; margin:1px;font-weight:bold;'> PASS: Should return documents</div>\n",
       " <div  style='background-color:#99FF99; margin:1px;font-weight:bold;'> PASS: Should return Files</div>\n",
       " <div  style='background-color:#99FF99; margin:1px;font-weight:bold;'> PASS: Assertion #3</div>\n",
       "\n"
      ]
     },
     "metadata": {
      "application/json": {
       "expanded": true
      }
     },
     "output_type": "display_data"
    }
   ],
   "source": [
    "@Test(id = \"SimpleTest\")\n",
    "Assert.assertTrue((NBTest.ExampleOperation(null, {}).size()<0),'Should return documents');\n",
    "Console.log(NBTest.ExampleOperation(null, {}).size());\n",
    "Assert.assertTrue(NBTest.ExampleOperation(null, {}).size()>0,'Should return documents');\n",
    "//Assert.assertTrue(NBTest.ExampleOperation(null, {}).get(0).type=='File','Should return Files');\n",
    "//Assert.assertTrue(NBTest.ExampleOperation(null, {})[0].getPropertyValue('dc:source')=='automation');\n"
   ]
  }
 ],
 "metadata": {
  "kernelspec": {
   "display_name": "Nuxeo Automation",
   "language": "javascript",
   "name": "nuxeokernel"
  },
  "language_info": {
   "__codemirror_mode": {
    "json": true,
    "name": "javascript"
   },
   "file_extension": ".js",
   "mimetype": "text/javascript",
   "name": "javascript"
  }
 },
 "nbformat": 4,
 "nbformat_minor": 2
}
