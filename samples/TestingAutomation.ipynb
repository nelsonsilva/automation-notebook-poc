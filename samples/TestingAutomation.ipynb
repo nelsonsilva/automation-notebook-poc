{
 "cells": [
  {
   "cell_type": "markdown",
   "metadata": {},
   "source": [
    "## Testing Automation Scripting\n",
    "\n",
    "The idea is to experiment on how we can use the notebook approach to write / test / debug Automation Scripting\n",
    "\n",
    "First we need to define a **Setup** that we can use to have the needed data in place.\n",
    "\n",
    "### Define the setup using Scripting"
   ]
  },
  {
   "cell_type": "code",
   "execution_count": 13,
   "metadata": {},
   "outputs": [
    {
     "data": {
      "text/html": [
       "Documents: \n",
       "\n",
       "<table>\n",
       "<tr>\n",
       "    <th> UID </th>\n",
       "    <th> Title </th>\n",
       "    <th> Type </th>\n",
       "    <th> Path </th>\n",
       "</tr>\n",
       "\n",
       "<tr>\n",
       "    <td> 573a2ed0-8ada-4926-af1f-7ad0ab5c7324 </td>\n",
       "    <td> File 2 </td>\n",
       "    <td> File </td>\n",
       "    <td> /File-2 </td>\n",
       "</tr>\n",
       "\n",
       "<tr>\n",
       "    <td> f9987ad2-bb7a-4ba4-98e4-7073bfa60a03 </td>\n",
       "    <td> File 0 </td>\n",
       "    <td> File </td>\n",
       "    <td> /File-0 </td>\n",
       "</tr>\n",
       "\n",
       "<tr>\n",
       "    <td> 058656f5-7bf1-4a46-8be5-44fc16a32d18 </td>\n",
       "    <td> File 1 </td>\n",
       "    <td> File </td>\n",
       "    <td> /File-1 </td>\n",
       "</tr>\n",
       "\n",
       "<tr>\n",
       "    <td> 45317f9d-1134-4a18-a349-44b90dde8322 </td>\n",
       "    <td> File 3 </td>\n",
       "    <td> File </td>\n",
       "    <td> /File-3 </td>\n",
       "</tr>\n",
       "\n",
       "<tr>\n",
       "    <td> 6cfa4e14-04c1-460f-94cf-d81bf2446305 </td>\n",
       "    <td> File 4 </td>\n",
       "    <td> File </td>\n",
       "    <td> /File-4 </td>\n",
       "</tr>\n",
       "\n",
       "\n",
       "</table>\n",
       "\n",
       "<BR/>\n",
       "\n",
       "<I>Execution time = 966 ms</I>\n",
       "\n"
      ]
     },
     "metadata": {
      "application/json": {
       "expanded": true
      }
     },
     "output_type": "display_data"
    }
   ],
   "source": [
    "function setupMyRepository() {\n",
    "\n",
    "   var docs = Document.Query(null, {\"query\" : \"select * from File where dc:source='automation'\"});\n",
    "   if (docs.size()>0) {\n",
    "       return docs;\n",
    "   }\n",
    "   \n",
    "   var root = Repository.GetDocument(null, {\n",
    "        \"value\" : \"/\"\n",
    "   });\n",
    "   \n",
    "   for (var i=0; i < 5; i++) {\n",
    "       Document.Create(root, { \"type\": \"File\",\n",
    "                               \"name\": \"File-\" + i,\n",
    "                               \"properties\": {\n",
    "                                   \"dc:title\": \"File \" + i,\n",
    "                                   \"dc:source\" : \"automation\"\n",
    "                               }});\n",
    "   }\n",
    "   \n",
    "   return Document.Query(null, {\"query\" : \"select * from File where dc:source='automation'\"});\n",
    "   \n",
    "}\n",
    "setupMyRepository();"
   ]
  },
  {
   "cell_type": "markdown",
   "metadata": {},
   "source": [
    "Now that we have a testing environment we need to **define an operation**\n",
    "\n",
    "### Defining an operation using Scripting"
   ]
  },
  {
   "cell_type": "code",
   "execution_count": 14,
   "metadata": {},
   "outputs": [
    {
     "data": {
      "text/html": [
       "\n",
       "Operation 'Scripting.NotebookTestOperation' compiled and deployed.\n",
       "\n",
       "<BR/>\n",
       "\n",
       "<I>Execution time = 225 ms</I>\n",
       "\n"
      ]
     },
     "metadata": {
      "application/json": {
       "expanded": true
      }
     },
     "output_type": "display_data"
    }
   ],
   "source": [
    "@Operation(id = \"Scripting.NotebookTestOperation\")\n",
    "function run(input, params) {\n",
    "  \n",
    "  var docs = Document.Query(null, {\"query\" : \"select * from File where dc:source='automation'\"});\n",
    "\n",
    "  for (var i=0; i < docs.size(); i++) {\n",
    "       Document.Update(docs.get(i), { \"properties\": {\n",
    "                                   \"dc:title\": input + \"-\" + i,\n",
    "                               }});\n",
    "   }\n",
    "   \n",
    "   return Document.Query(null, {\"query\" : \"select * from File where dc:source='automation'\"});\n",
    "}"
   ]
  },
  {
   "cell_type": "code",
   "execution_count": 15,
   "metadata": {},
   "outputs": [
    {
     "data": {
      "text/html": [
       "Documents: \n",
       "\n",
       "<table>\n",
       "<tr>\n",
       "    <th> UID </th>\n",
       "    <th> Title </th>\n",
       "    <th> Type </th>\n",
       "    <th> Path </th>\n",
       "</tr>\n",
       "\n",
       "<tr>\n",
       "    <td> 573a2ed0-8ada-4926-af1f-7ad0ab5c7324 </td>\n",
       "    <td> test-0 </td>\n",
       "    <td> File </td>\n",
       "    <td> /File-2 </td>\n",
       "</tr>\n",
       "\n",
       "<tr>\n",
       "    <td> f9987ad2-bb7a-4ba4-98e4-7073bfa60a03 </td>\n",
       "    <td> test-1 </td>\n",
       "    <td> File </td>\n",
       "    <td> /File-0 </td>\n",
       "</tr>\n",
       "\n",
       "<tr>\n",
       "    <td> 058656f5-7bf1-4a46-8be5-44fc16a32d18 </td>\n",
       "    <td> test-2 </td>\n",
       "    <td> File </td>\n",
       "    <td> /File-1 </td>\n",
       "</tr>\n",
       "\n",
       "<tr>\n",
       "    <td> 45317f9d-1134-4a18-a349-44b90dde8322 </td>\n",
       "    <td> test-3 </td>\n",
       "    <td> File </td>\n",
       "    <td> /File-3 </td>\n",
       "</tr>\n",
       "\n",
       "<tr>\n",
       "    <td> 6cfa4e14-04c1-460f-94cf-d81bf2446305 </td>\n",
       "    <td> test-4 </td>\n",
       "    <td> File </td>\n",
       "    <td> /File-4 </td>\n",
       "</tr>\n",
       "\n",
       "\n",
       "</table>\n",
       "\n",
       "<BR/>\n",
       "\n",
       "<I>Execution time = 229 ms</I>\n",
       "\n"
      ]
     },
     "metadata": {
      "application/json": {
       "expanded": true
      }
     },
     "output_type": "display_data"
    }
   ],
   "source": [
    "Scripting.NotebookTestOperation(\"test\",{});"
   ]
  }
 ],
 "metadata": {
  "kernelspec": {
   "display_name": "Nuxeo Automation",
   "language": "javascript",
   "name": "nuxeokernel"
  },
  "language_info": {
   "file_extension": ".txt",
   "mimetype": "text/plain",
   "name": "Any text"
  }
 },
 "nbformat": 4,
 "nbformat_minor": 2
}
